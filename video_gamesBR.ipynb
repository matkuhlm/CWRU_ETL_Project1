{
 "metadata": {
  "language_info": {
   "codemirror_mode": {
    "name": "ipython",
    "version": 3
   },
   "file_extension": ".py",
   "mimetype": "text/x-python",
   "name": "python",
   "nbconvert_exporter": "python",
   "pygments_lexer": "ipython3",
   "version": "3.6.10-final"
  },
  "orig_nbformat": 2,
  "kernelspec": {
   "name": "Python 3.6.10 64-bit ('PythonData': conda)",
   "display_name": "Python 3.6.10 64-bit ('PythonData': conda)",
   "metadata": {
    "interpreter": {
     "hash": "618fe78b8d561c647932c992064697570060e2cddac3d1a3a68750b5e23d474c"
    }
   }
  }
 },
 "nbformat": 4,
 "nbformat_minor": 2,
 "cells": [
  {
   "cell_type": "code",
   "execution_count": 1,
   "metadata": {},
   "outputs": [],
   "source": [
    "# Dependencies\n",
    "from bs4 import BeautifulSoup\n",
    "import requests\n",
    "from pprint import pprint\n",
    "import json\n",
    "import pandas as pd\n",
    "from sqlalchemy import create_engine\n",
    "import time\n",
    "from selenium import webdriver\n",
    "from datetime import datetime\n",
    "from dateutil.parser import parse\n",
    "import re\n",
    "import numpy as np"
   ]
  },
  {
   "cell_type": "code",
   "execution_count": 2,
   "metadata": {},
   "outputs": [],
   "source": [
    "chrome_path = 'envs\\PythonData\\chromedriver.exe'\n",
    "driver = webdriver.Chrome(chrome_path)"
   ]
  },
  {
   "cell_type": "code",
   "execution_count": 3,
   "metadata": {},
   "outputs": [],
   "source": [
    "# URL of page to be scraped\n",
    "url = 'https://www.vgchartz.com/weekly/43464/USA'"
   ]
  },
  {
   "cell_type": "code",
   "execution_count": 4,
   "metadata": {},
   "outputs": [],
   "source": [
    "# Retrieve page with the requests module\n",
    "response = requests.get(url)"
   ]
  },
  {
   "cell_type": "code",
   "execution_count": 5,
   "metadata": {},
   "outputs": [],
   "source": [
    "# Create BeautifulSoup object; parse with 'html.parser'\n",
    "soup = BeautifulSoup(response.text, 'html.parser')"
   ]
  },
  {
   "cell_type": "code",
   "execution_count": 6,
   "metadata": {},
   "outputs": [],
   "source": [
    "# results are returned as an iterable list\n",
    "chart_date_selector = soup.find('div', class_=\"chart_date_selector\")\n",
    "\n",
    "selections = chart_date_selector.find_all('option')\n"
   ]
  },
  {
   "cell_type": "code",
   "execution_count": 7,
   "metadata": {},
   "outputs": [],
   "source": [
    "#scraping all rows in the main table\n",
    "table = soup.findAll('table')[1]\n",
    "#print(table)\n",
    "\n",
    "rows = table.find_all('tr')\n"
   ]
  },
  {
   "cell_type": "code",
   "execution_count": 8,
   "metadata": {},
   "outputs": [
    {
     "output_type": "stream",
     "name": "stdout",
     "text": [
      "['18th Nov 2017', '25th Nov 2017', '02nd Dec 2017', '09th Dec 2017', '16th Dec 2017', '23rd Dec 2017', '30th Dec 2017', '06th Jan 2018', '13th Jan 2018', '20th Jan 2018', '27th Jan 2018', '03rd Feb 2018', '10th Feb 2018', '17th Feb 2018', '24th Feb 2018', '03rd Mar 2018', '10th Mar 2018', '17th Mar 2018', '24th Mar 2018', '31st Mar 2018', '07th Apr 2018', '14th Apr 2018', '21st Apr 2018', '28th Apr 2018', '05th May 2018', '12th May 2018', '19th May 2018', '26th May 2018', '02nd Jun 2018', '09th Jun 2018', '16th Jun 2018', '23rd Jun 2018', '30th Jun 2018', '07th Jul 2018', '14th Jul 2018', '21st Jul 2018', '28th Jul 2018', '04th Aug 2018', '11th Aug 2018', '18th Aug 2018', '25th Aug 2018', '01st Sep 2018', '08th Sep 2018', '15th Sep 2018', '22nd Sep 2018', '29th Sep 2018', '06th Oct 2018', '13th Oct 2018', '20th Oct 2018', '27th Oct 2018', '03rd Nov 2018', '10th Nov 2018', '17th Nov 2018', '24th Nov 2018', '01st Dec 2018', '08th Dec 2018', '15th Dec 2018', '22nd Dec 2018', '29th Dec 2018']\n"
     ]
    }
   ],
   "source": [
    "value_list = []\n",
    "date_list = []\n",
    "\n",
    "#add date values from options into value_list\n",
    "for selection in selections:\n",
    "\n",
    "    values = selection['value']\n",
    "\n",
    "    if int(values) >= 43058:\n",
    "\n",
    "        dates = selection.text\n",
    "        date_list.append(dates)\n",
    "\n",
    "        value_list.append(values)\n",
    "date_list.reverse()\n",
    "print(date_list)\n"
   ]
  },
  {
   "cell_type": "code",
   "execution_count": 9,
   "metadata": {},
   "outputs": [],
   "source": [
    "#getting urls for each week of data\n",
    "url_list = []\n",
    "\n",
    "usa = '/USA'\n",
    "\n",
    "url = 'https://www.vgchartz.com/weekly/'\n",
    "\n",
    "for y in value_list:\n",
    "\n",
    "    date_url = url + y + usa\n",
    "    \n",
    "    url_list.append(date_url)"
   ]
  },
  {
   "cell_type": "code",
   "execution_count": 10,
   "metadata": {},
   "outputs": [],
   "source": [
    "game_data_list = []\n",
    "\n",
    "for url in url_list:\n",
    "    #getting list of games\n",
    "    for row in rows[1:]:\n",
    "        #print(row)\n",
    "        game_data = row.text\n",
    "        #game_data = re.sub(r\"?\\\\n[0-9]\",\"\",game_data)\n",
    "        splitting = game_data.rsplit('\\n')\n",
    "        game_data_list.append(splitting)\n"
   ]
  },
  {
   "cell_type": "code",
   "execution_count": 11,
   "metadata": {},
   "outputs": [
    {
     "output_type": "execute_result",
     "data": {
      "text/plain": [
       "     Position                                         Video Game Weekly Sales\n",
       "0           1    Super Smash Bros. (2018) (NS)Nintendo, Fighting      432,869\n",
       "2           2  Red Dead Redemption 2 (PS4)Take-Two Interactiv...      215,113\n",
       "4           3  Call of Duty: Black Ops IIII (PS4)Activision, ...      198,626\n",
       "6           4  Spider-Man (PS4) (PS4)Sony Interactive Enterta...      167,154\n",
       "8           5           Mario Kart 8 Deluxe (NS)Nintendo, Racing      161,657\n",
       "...       ...                                                ...          ...\n",
       "8840       71       NieR Automata (PS4)Square Enix, Role-Playing          Pro\n",
       "8842       72                Destiny 2 (XOne)Activision, Shooter          Pro\n",
       "8844       73       EA Sports UFC 3 (PS4)Electronic Arts, Sports          Pro\n",
       "8846       74  Firewall: Zero Hour (PS4)Sony Interactive Ente...          Pro\n",
       "8848       75      WWE 2K19 (XOne)Take-Two Interactive, Fighting          Pro\n",
       "\n",
       "[4425 rows x 3 columns]"
      ],
      "text/html": "<div>\n<style scoped>\n    .dataframe tbody tr th:only-of-type {\n        vertical-align: middle;\n    }\n\n    .dataframe tbody tr th {\n        vertical-align: top;\n    }\n\n    .dataframe thead th {\n        text-align: right;\n    }\n</style>\n<table border=\"1\" class=\"dataframe\">\n  <thead>\n    <tr style=\"text-align: right;\">\n      <th></th>\n      <th>Position</th>\n      <th>Video Game</th>\n      <th>Weekly Sales</th>\n    </tr>\n  </thead>\n  <tbody>\n    <tr>\n      <th>0</th>\n      <td>1</td>\n      <td>Super Smash Bros. (2018) (NS)Nintendo, Fighting</td>\n      <td>432,869</td>\n    </tr>\n    <tr>\n      <th>2</th>\n      <td>2</td>\n      <td>Red Dead Redemption 2 (PS4)Take-Two Interactiv...</td>\n      <td>215,113</td>\n    </tr>\n    <tr>\n      <th>4</th>\n      <td>3</td>\n      <td>Call of Duty: Black Ops IIII (PS4)Activision, ...</td>\n      <td>198,626</td>\n    </tr>\n    <tr>\n      <th>6</th>\n      <td>4</td>\n      <td>Spider-Man (PS4) (PS4)Sony Interactive Enterta...</td>\n      <td>167,154</td>\n    </tr>\n    <tr>\n      <th>8</th>\n      <td>5</td>\n      <td>Mario Kart 8 Deluxe (NS)Nintendo, Racing</td>\n      <td>161,657</td>\n    </tr>\n    <tr>\n      <th>...</th>\n      <td>...</td>\n      <td>...</td>\n      <td>...</td>\n    </tr>\n    <tr>\n      <th>8840</th>\n      <td>71</td>\n      <td>NieR Automata (PS4)Square Enix, Role-Playing</td>\n      <td>Pro</td>\n    </tr>\n    <tr>\n      <th>8842</th>\n      <td>72</td>\n      <td>Destiny 2 (XOne)Activision, Shooter</td>\n      <td>Pro</td>\n    </tr>\n    <tr>\n      <th>8844</th>\n      <td>73</td>\n      <td>EA Sports UFC 3 (PS4)Electronic Arts, Sports</td>\n      <td>Pro</td>\n    </tr>\n    <tr>\n      <th>8846</th>\n      <td>74</td>\n      <td>Firewall: Zero Hour (PS4)Sony Interactive Ente...</td>\n      <td>Pro</td>\n    </tr>\n    <tr>\n      <th>8848</th>\n      <td>75</td>\n      <td>WWE 2K19 (XOne)Take-Two Interactive, Fighting</td>\n      <td>Pro</td>\n    </tr>\n  </tbody>\n</table>\n<p>4425 rows × 3 columns</p>\n</div>"
     },
     "metadata": {},
     "execution_count": 11
    }
   ],
   "source": [
    "df= pd.DataFrame(game_data_list)\n",
    "cleaned_df = df.iloc[::2]\n",
    "cleaned_df.drop([0, 2, 3, 4, 5, 7, 8, 9, 11, 12, 13], axis=1, inplace=True)\n",
    "cleaned_df.rename(columns = {1:'Position', 6:'Video Game', 10:'Weekly Sales'}, inplace = True)\n",
    "cleaned_df"
   ]
  },
  {
   "cell_type": "code",
   "execution_count": null,
   "metadata": {},
   "outputs": [],
   "source": [
    "while "
   ]
  },
  {
   "cell_type": "code",
   "execution_count": 12,
   "metadata": {},
   "outputs": [
    {
     "output_type": "stream",
     "name": "stdout",
     "text": [
      "[0, 150, 300, 450, 600, 750, 900, 1050, 1200, 1350, 1500, 1650, 1800, 1950, 2100, 2250, 2400, 2550, 2700, 2850, 3000, 3150, 3300, 3450, 3600, 3750, 3900, 4050, 4200, 4350, 4500, 4650, 4800, 4950, 5100, 5250, 5400, 5550, 5700, 5850, 6000, 6150, 6300, 6450, 6600, 6750, 6900, 7050, 7200, 7350, 7500, 7650, 7800, 7950, 8100, 8250, 8400, 8550, 8700]\n"
     ]
    }
   ],
   "source": [
    "week1 = cleaned_df[cleaned_df['Position']=='1'].index.tolist()\n",
    "print(week1)\n",
    "\n"
   ]
  },
  {
   "cell_type": "code",
   "execution_count": 13,
   "metadata": {},
   "outputs": [
    {
     "output_type": "execute_result",
     "data": {
      "text/plain": [
       "['video_games']"
      ]
     },
     "metadata": {},
     "execution_count": 13
    }
   ],
   "source": [
    "rds_connection_string = \"postgres:norocel7@database-1.cgiopwhezyby.us-east-2.rds.amazonaws.com/video_games_db\"\n",
    "engine = create_engine(f'postgresql://{rds_connection_string}')\n",
    "\n",
    "engine.table_names()\n",
    "\n",
    "#df.to_sql(name='video_games', con=engine, if_exists='append', index=False)"
   ]
  }
 ]
}