{
 "metadata": {
  "language_info": {
   "codemirror_mode": {
    "name": "ipython",
    "version": 3
   },
   "file_extension": ".py",
   "mimetype": "text/x-python",
   "name": "python",
   "nbconvert_exporter": "python",
   "pygments_lexer": "ipython3",
   "version": "3.6.10-final"
  },
  "orig_nbformat": 2,
  "kernelspec": {
   "name": "python3",
   "display_name": "Python 3.6.10 64-bit ('PythonData': conda)",
   "metadata": {
    "interpreter": {
     "hash": "618fe78b8d561c647932c992064697570060e2cddac3d1a3a68750b5e23d474c"
    }
   }
  }
 },
 "nbformat": 4,
 "nbformat_minor": 2,
 "cells": [
  {
   "cell_type": "code",
   "execution_count": 1,
   "metadata": {},
   "outputs": [],
   "source": [
    "# Dependencies\n",
    "from bs4 import BeautifulSoup\n",
    "import requests\n",
    "from pprint import pprint\n",
    "import json\n",
    "import pandas as pd\n",
    "from sqlalchemy import create_engine\n",
    "import time\n",
    "from selenium import webdriver\n",
    "from datetime import datetime\n",
    "from dateutil.parser import parse\n",
    "import re\n",
    "import numpy as np"
   ]
  },
  {
   "cell_type": "code",
   "execution_count": 2,
   "metadata": {},
   "outputs": [],
   "source": [
    "chrome_path = 'envs\\PythonData\\chromedriver.exe'\n",
    "driver = webdriver.Chrome(chrome_path)"
   ]
  },
  {
   "cell_type": "code",
   "execution_count": 3,
   "metadata": {},
   "outputs": [],
   "source": [
    "# URL of page to be scraped\n",
    "url = 'https://www.vgchartz.com/weekly/43464/USA'"
   ]
  },
  {
   "cell_type": "code",
   "execution_count": 4,
   "metadata": {},
   "outputs": [
    {
     "output_type": "stream",
     "name": "stdout",
     "text": [
      "<Response [200]>\n"
     ]
    }
   ],
   "source": [
    "# Retrieve page with the requests module\n",
    "response = requests.get(url)\n",
    "print(response)"
   ]
  },
  {
   "cell_type": "code",
   "execution_count": 5,
   "metadata": {},
   "outputs": [],
   "source": [
    "# Create BeautifulSoup object; parse with 'html.parser'\n",
    "soup = BeautifulSoup(response.text, 'html.parser')"
   ]
  },
  {
   "cell_type": "code",
   "execution_count": 6,
   "metadata": {},
   "outputs": [],
   "source": [
    "# results are returned as an iterable list\n",
    "chart_date_selector = soup.find('div', class_=\"chart_date_selector\")\n",
    "\n",
    "selections = chart_date_selector.find_all('option')\n"
   ]
  },
  {
   "cell_type": "code",
   "execution_count": 8,
   "metadata": {},
   "outputs": [],
   "source": [
    "#scraping all rows in the main table\n",
    "table = soup.findAll('table')[1]\n",
    "#print(table)\n",
    "\n",
    "rows = table.find_all('tr')\n",
    "#print(rows)\n"
   ]
  },
  {
   "cell_type": "code",
   "execution_count": 11,
   "metadata": {},
   "outputs": [
    {
     "output_type": "stream",
     "name": "stdout",
     "text": [
      "['18th Nov 2017', '25th Nov 2017', '02nd Dec 2017', '09th Dec 2017', '16th Dec 2017', '23rd Dec 2017', '30th Dec 2017', '06th Jan 2018', '13th Jan 2018', '20th Jan 2018', '27th Jan 2018', '03rd Feb 2018', '10th Feb 2018', '17th Feb 2018', '24th Feb 2018', '03rd Mar 2018', '10th Mar 2018', '17th Mar 2018', '24th Mar 2018', '31st Mar 2018', '07th Apr 2018', '14th Apr 2018', '21st Apr 2018', '28th Apr 2018', '05th May 2018', '12th May 2018', '19th May 2018', '26th May 2018', '02nd Jun 2018', '09th Jun 2018', '16th Jun 2018', '23rd Jun 2018', '30th Jun 2018', '07th Jul 2018', '14th Jul 2018', '21st Jul 2018', '28th Jul 2018', '04th Aug 2018', '11th Aug 2018', '18th Aug 2018', '25th Aug 2018', '01st Sep 2018', '08th Sep 2018', '15th Sep 2018', '22nd Sep 2018', '29th Sep 2018', '06th Oct 2018', '13th Oct 2018', '20th Oct 2018', '27th Oct 2018', '03rd Nov 2018', '10th Nov 2018', '17th Nov 2018', '24th Nov 2018', '01st Dec 2018', '08th Dec 2018', '15th Dec 2018', '22nd Dec 2018', '29th Dec 2018']\n"
     ]
    }
   ],
   "source": [
    "value_list = []\n",
    "date_list = []\n",
    "\n",
    "#add date values from options into value_list\n",
    "for selection in selections:\n",
    "\n",
    "    values = selection['value']\n",
    "\n",
    "    if int(values) >= 43058:\n",
    "\n",
    "        dates = selection.text\n",
    "        date_list.append(dates)\n",
    "\n",
    "        value_list.append(values)\n",
    "date_list.reverse()\n",
    "print(date_list)\n"
   ]
  },
  {
   "cell_type": "code",
   "execution_count": 12,
   "metadata": {},
   "outputs": [
    {
     "output_type": "stream",
     "name": "stdout",
     "text": [
      "['https://www.vgchartz.com/weekly/43464/USA', 'https://www.vgchartz.com/weekly/43457/USA', 'https://www.vgchartz.com/weekly/43450/USA', 'https://www.vgchartz.com/weekly/43443/USA', 'https://www.vgchartz.com/weekly/43436/USA', 'https://www.vgchartz.com/weekly/43429/USA', 'https://www.vgchartz.com/weekly/43422/USA', 'https://www.vgchartz.com/weekly/43415/USA', 'https://www.vgchartz.com/weekly/43408/USA', 'https://www.vgchartz.com/weekly/43401/USA', 'https://www.vgchartz.com/weekly/43394/USA', 'https://www.vgchartz.com/weekly/43387/USA', 'https://www.vgchartz.com/weekly/43380/USA', 'https://www.vgchartz.com/weekly/43373/USA', 'https://www.vgchartz.com/weekly/43366/USA', 'https://www.vgchartz.com/weekly/43359/USA', 'https://www.vgchartz.com/weekly/43352/USA', 'https://www.vgchartz.com/weekly/43345/USA', 'https://www.vgchartz.com/weekly/43338/USA', 'https://www.vgchartz.com/weekly/43331/USA', 'https://www.vgchartz.com/weekly/43324/USA', 'https://www.vgchartz.com/weekly/43317/USA', 'https://www.vgchartz.com/weekly/43310/USA', 'https://www.vgchartz.com/weekly/43303/USA', 'https://www.vgchartz.com/weekly/43296/USA', 'https://www.vgchartz.com/weekly/43289/USA', 'https://www.vgchartz.com/weekly/43282/USA', 'https://www.vgchartz.com/weekly/43275/USA', 'https://www.vgchartz.com/weekly/43268/USA', 'https://www.vgchartz.com/weekly/43261/USA', 'https://www.vgchartz.com/weekly/43254/USA', 'https://www.vgchartz.com/weekly/43247/USA', 'https://www.vgchartz.com/weekly/43240/USA', 'https://www.vgchartz.com/weekly/43233/USA', 'https://www.vgchartz.com/weekly/43226/USA', 'https://www.vgchartz.com/weekly/43219/USA', 'https://www.vgchartz.com/weekly/43212/USA', 'https://www.vgchartz.com/weekly/43205/USA', 'https://www.vgchartz.com/weekly/43198/USA', 'https://www.vgchartz.com/weekly/43191/USA', 'https://www.vgchartz.com/weekly/43184/USA', 'https://www.vgchartz.com/weekly/43177/USA', 'https://www.vgchartz.com/weekly/43170/USA', 'https://www.vgchartz.com/weekly/43163/USA', 'https://www.vgchartz.com/weekly/43156/USA', 'https://www.vgchartz.com/weekly/43149/USA', 'https://www.vgchartz.com/weekly/43142/USA', 'https://www.vgchartz.com/weekly/43135/USA', 'https://www.vgchartz.com/weekly/43128/USA', 'https://www.vgchartz.com/weekly/43121/USA', 'https://www.vgchartz.com/weekly/43114/USA', 'https://www.vgchartz.com/weekly/43107/USA', 'https://www.vgchartz.com/weekly/43100/USA', 'https://www.vgchartz.com/weekly/43093/USA', 'https://www.vgchartz.com/weekly/43086/USA', 'https://www.vgchartz.com/weekly/43079/USA', 'https://www.vgchartz.com/weekly/43072/USA', 'https://www.vgchartz.com/weekly/43065/USA', 'https://www.vgchartz.com/weekly/43058/USA']\n"
     ]
    }
   ],
   "source": [
    "#getting urls for each week of data\n",
    "url_list = []\n",
    "\n",
    "usa = '/USA'\n",
    "\n",
    "url2 = 'https://www.vgchartz.com/weekly/'\n",
    "\n",
    "for y in value_list:\n",
    "\n",
    "    date_url = url2 + y + usa\n",
    "    \n",
    "    url_list.append(date_url)\n",
    "print(url_list)"
   ]
  },
  {
   "cell_type": "code",
   "execution_count": 13,
   "metadata": {},
   "outputs": [],
   "source": [
    "game_data_list = []\n",
    "\n",
    "for url in url_list:\n",
    "    response2 = requests.get(url)\n",
    "    soup = BeautifulSoup(response2.text, 'html.parser')\n",
    "    table = soup.findAll('table')[1]\n",
    "    rows = table.find_all('tr')\n",
    "    #print(response2.text)\n",
    "    #getting list of games\n",
    "    for row in rows[1:]:\n",
    "        #print(row)\n",
    "        game_data = row.text\n",
    "        #print(game_data)\n",
    "        #game_data = re.sub(r\"?\\\\n[0-9]\",\"\",game_data)\n",
    "        splitting = game_data.rsplit('\\n')\n",
    "        game_data_list.append(splitting)\n",
    "    #print(url)\n"
   ]
  },
  {
   "cell_type": "code",
   "execution_count": 11,
   "metadata": {},
   "outputs": [],
   "source": [
    "df= pd.DataFrame(game_data_list)\n",
    "cleaned_df = df.iloc[::2]\n",
    "cleaned_df.drop([0, 2, 3, 4, 5, 7, 8, 9, 11, 12, 13], axis=1, inplace=True)\n",
    "cleaned_df.rename(columns = {1:'Position', 6:'Video Game', 10:'Weekly Sales'}, inplace = True)\n",
    "#cleaned_df.head(600)"
   ]
  },
  {
   "cell_type": "code",
   "execution_count": 12,
   "metadata": {},
   "outputs": [
    {
     "output_type": "execute_result",
     "data": {
      "text/plain": [
       "     Position                                         Video Game Weekly Sales  \\\n",
       "0           1    Super Smash Bros. (2018) (NS)Nintendo, Fighting      432,869   \n",
       "2           2  Red Dead Redemption 2 (PS4)Take-Two Interactiv...      215,113   \n",
       "4           3  Call of Duty: Black Ops IIII (PS4)Activision, ...      198,626   \n",
       "6           4  Spider-Man (PS4) (PS4)Sony Interactive Enterta...      167,154   \n",
       "8           5           Mario Kart 8 Deluxe (NS)Nintendo, Racing      161,657   \n",
       "...       ...                                                ...          ...   \n",
       "8840       71  BioShock The Collection (PS4)Take-Two Interact...          Pro   \n",
       "8842       72  Tom Clancy's Rainbow Six: Siege (PS4)Ubisoft, ...          Pro   \n",
       "8844       73  Forza Horizon 3 (XOne)Microsoft Game Studios, ...          Pro   \n",
       "8846       74  The Evil Within II (PS4)Bethesda Softworks, Ac...          Pro   \n",
       "8848       75    New Super Mario Bros. 2 (3DS)Nintendo, Platform          Pro   \n",
       "\n",
       "      Week  \n",
       "0        0  \n",
       "2        0  \n",
       "4        0  \n",
       "6        0  \n",
       "8        0  \n",
       "...    ...  \n",
       "8840     0  \n",
       "8842     0  \n",
       "8844     0  \n",
       "8846     0  \n",
       "8848     0  \n",
       "\n",
       "[4425 rows x 4 columns]"
      ],
      "text/html": "<div>\n<style scoped>\n    .dataframe tbody tr th:only-of-type {\n        vertical-align: middle;\n    }\n\n    .dataframe tbody tr th {\n        vertical-align: top;\n    }\n\n    .dataframe thead th {\n        text-align: right;\n    }\n</style>\n<table border=\"1\" class=\"dataframe\">\n  <thead>\n    <tr style=\"text-align: right;\">\n      <th></th>\n      <th>Position</th>\n      <th>Video Game</th>\n      <th>Weekly Sales</th>\n      <th>Week</th>\n    </tr>\n  </thead>\n  <tbody>\n    <tr>\n      <th>0</th>\n      <td>1</td>\n      <td>Super Smash Bros. (2018) (NS)Nintendo, Fighting</td>\n      <td>432,869</td>\n      <td>0</td>\n    </tr>\n    <tr>\n      <th>2</th>\n      <td>2</td>\n      <td>Red Dead Redemption 2 (PS4)Take-Two Interactiv...</td>\n      <td>215,113</td>\n      <td>0</td>\n    </tr>\n    <tr>\n      <th>4</th>\n      <td>3</td>\n      <td>Call of Duty: Black Ops IIII (PS4)Activision, ...</td>\n      <td>198,626</td>\n      <td>0</td>\n    </tr>\n    <tr>\n      <th>6</th>\n      <td>4</td>\n      <td>Spider-Man (PS4) (PS4)Sony Interactive Enterta...</td>\n      <td>167,154</td>\n      <td>0</td>\n    </tr>\n    <tr>\n      <th>8</th>\n      <td>5</td>\n      <td>Mario Kart 8 Deluxe (NS)Nintendo, Racing</td>\n      <td>161,657</td>\n      <td>0</td>\n    </tr>\n    <tr>\n      <th>...</th>\n      <td>...</td>\n      <td>...</td>\n      <td>...</td>\n      <td>...</td>\n    </tr>\n    <tr>\n      <th>8840</th>\n      <td>71</td>\n      <td>BioShock The Collection (PS4)Take-Two Interact...</td>\n      <td>Pro</td>\n      <td>0</td>\n    </tr>\n    <tr>\n      <th>8842</th>\n      <td>72</td>\n      <td>Tom Clancy's Rainbow Six: Siege (PS4)Ubisoft, ...</td>\n      <td>Pro</td>\n      <td>0</td>\n    </tr>\n    <tr>\n      <th>8844</th>\n      <td>73</td>\n      <td>Forza Horizon 3 (XOne)Microsoft Game Studios, ...</td>\n      <td>Pro</td>\n      <td>0</td>\n    </tr>\n    <tr>\n      <th>8846</th>\n      <td>74</td>\n      <td>The Evil Within II (PS4)Bethesda Softworks, Ac...</td>\n      <td>Pro</td>\n      <td>0</td>\n    </tr>\n    <tr>\n      <th>8848</th>\n      <td>75</td>\n      <td>New Super Mario Bros. 2 (3DS)Nintendo, Platform</td>\n      <td>Pro</td>\n      <td>0</td>\n    </tr>\n  </tbody>\n</table>\n<p>4425 rows × 4 columns</p>\n</div>"
     },
     "metadata": {},
     "execution_count": 12
    }
   ],
   "source": [
    "cleaned_df.insert(3, \"Week\", 0)\n",
    "cleaned_df"
   ]
  },
  {
   "cell_type": "code",
   "execution_count": 13,
   "metadata": {},
   "outputs": [
    {
     "output_type": "execute_result",
     "data": {
      "text/plain": [
       "     Position                                         Video Game Weekly Sales  \\\n",
       "0           1    Super Smash Bros. (2018) (NS)Nintendo, Fighting      432,869   \n",
       "2           2  Red Dead Redemption 2 (PS4)Take-Two Interactiv...      215,113   \n",
       "4           3  Call of Duty: Black Ops IIII (PS4)Activision, ...      198,626   \n",
       "6           4  Spider-Man (PS4) (PS4)Sony Interactive Enterta...      167,154   \n",
       "8           5           Mario Kart 8 Deluxe (NS)Nintendo, Racing      161,657   \n",
       "...       ...                                                ...          ...   \n",
       "8840       71  BioShock The Collection (PS4)Take-Two Interact...          Pro   \n",
       "8842       72  Tom Clancy's Rainbow Six: Siege (PS4)Ubisoft, ...          Pro   \n",
       "8844       73  Forza Horizon 3 (XOne)Microsoft Game Studios, ...          Pro   \n",
       "8846       74  The Evil Within II (PS4)Bethesda Softworks, Ac...          Pro   \n",
       "8848       75    New Super Mario Bros. 2 (3DS)Nintendo, Platform          Pro   \n",
       "\n",
       "               Week  \n",
       "0     18th Nov 2017  \n",
       "2     18th Nov 2017  \n",
       "4     18th Nov 2017  \n",
       "6     18th Nov 2017  \n",
       "8     18th Nov 2017  \n",
       "...             ...  \n",
       "8840  29th Dec 2018  \n",
       "8842  29th Dec 2018  \n",
       "8844  29th Dec 2018  \n",
       "8846  29th Dec 2018  \n",
       "8848  29th Dec 2018  \n",
       "\n",
       "[4425 rows x 4 columns]"
      ],
      "text/html": "<div>\n<style scoped>\n    .dataframe tbody tr th:only-of-type {\n        vertical-align: middle;\n    }\n\n    .dataframe tbody tr th {\n        vertical-align: top;\n    }\n\n    .dataframe thead th {\n        text-align: right;\n    }\n</style>\n<table border=\"1\" class=\"dataframe\">\n  <thead>\n    <tr style=\"text-align: right;\">\n      <th></th>\n      <th>Position</th>\n      <th>Video Game</th>\n      <th>Weekly Sales</th>\n      <th>Week</th>\n    </tr>\n  </thead>\n  <tbody>\n    <tr>\n      <th>0</th>\n      <td>1</td>\n      <td>Super Smash Bros. (2018) (NS)Nintendo, Fighting</td>\n      <td>432,869</td>\n      <td>18th Nov 2017</td>\n    </tr>\n    <tr>\n      <th>2</th>\n      <td>2</td>\n      <td>Red Dead Redemption 2 (PS4)Take-Two Interactiv...</td>\n      <td>215,113</td>\n      <td>18th Nov 2017</td>\n    </tr>\n    <tr>\n      <th>4</th>\n      <td>3</td>\n      <td>Call of Duty: Black Ops IIII (PS4)Activision, ...</td>\n      <td>198,626</td>\n      <td>18th Nov 2017</td>\n    </tr>\n    <tr>\n      <th>6</th>\n      <td>4</td>\n      <td>Spider-Man (PS4) (PS4)Sony Interactive Enterta...</td>\n      <td>167,154</td>\n      <td>18th Nov 2017</td>\n    </tr>\n    <tr>\n      <th>8</th>\n      <td>5</td>\n      <td>Mario Kart 8 Deluxe (NS)Nintendo, Racing</td>\n      <td>161,657</td>\n      <td>18th Nov 2017</td>\n    </tr>\n    <tr>\n      <th>...</th>\n      <td>...</td>\n      <td>...</td>\n      <td>...</td>\n      <td>...</td>\n    </tr>\n    <tr>\n      <th>8840</th>\n      <td>71</td>\n      <td>BioShock The Collection (PS4)Take-Two Interact...</td>\n      <td>Pro</td>\n      <td>29th Dec 2018</td>\n    </tr>\n    <tr>\n      <th>8842</th>\n      <td>72</td>\n      <td>Tom Clancy's Rainbow Six: Siege (PS4)Ubisoft, ...</td>\n      <td>Pro</td>\n      <td>29th Dec 2018</td>\n    </tr>\n    <tr>\n      <th>8844</th>\n      <td>73</td>\n      <td>Forza Horizon 3 (XOne)Microsoft Game Studios, ...</td>\n      <td>Pro</td>\n      <td>29th Dec 2018</td>\n    </tr>\n    <tr>\n      <th>8846</th>\n      <td>74</td>\n      <td>The Evil Within II (PS4)Bethesda Softworks, Ac...</td>\n      <td>Pro</td>\n      <td>29th Dec 2018</td>\n    </tr>\n    <tr>\n      <th>8848</th>\n      <td>75</td>\n      <td>New Super Mario Bros. 2 (3DS)Nintendo, Platform</td>\n      <td>Pro</td>\n      <td>29th Dec 2018</td>\n    </tr>\n  </tbody>\n</table>\n<p>4425 rows × 4 columns</p>\n</div>"
     },
     "metadata": {},
     "execution_count": 13
    }
   ],
   "source": [
    "cleaned_df['Position']\n",
    "week_list = []\n",
    "for date in date_list:\n",
    "    for position in cleaned_df['Position']:\n",
    "        #print(position)\n",
    "        week_list.append(date)\n",
    "        if (int(position) != 0 and int (position) % 75 == 0):\n",
    "            break \n",
    "cleaned_df['Week'] = week_list\n",
    "cleaned_df"
   ]
  },
  {
   "cell_type": "code",
   "execution_count": 14,
   "metadata": {},
   "outputs": [
    {
     "output_type": "execute_result",
     "data": {
      "text/plain": [
       "     Position                        Video Game Weekly Sales           Week\n",
       "0           1                Super Smash Bros.       432,869  18th Nov 2017\n",
       "2           2            Red Dead Redemption 2       215,113  18th Nov 2017\n",
       "4           3     Call of Duty: Black Ops IIII       198,626  18th Nov 2017\n",
       "6           4                       Spider-Man       167,154  18th Nov 2017\n",
       "8           5              Mario Kart 8 Deluxe       161,657  18th Nov 2017\n",
       "...       ...                               ...          ...            ...\n",
       "8840       71          BioShock The Collection           Pro  29th Dec 2018\n",
       "8842       72  Tom Clancy's Rainbow Six: Siege           Pro  29th Dec 2018\n",
       "8844       73                  Forza Horizon 3           Pro  29th Dec 2018\n",
       "8846       74               The Evil Within II           Pro  29th Dec 2018\n",
       "8848       75          New Super Mario Bros. 2           Pro  29th Dec 2018\n",
       "\n",
       "[4425 rows x 4 columns]"
      ],
      "text/html": "<div>\n<style scoped>\n    .dataframe tbody tr th:only-of-type {\n        vertical-align: middle;\n    }\n\n    .dataframe tbody tr th {\n        vertical-align: top;\n    }\n\n    .dataframe thead th {\n        text-align: right;\n    }\n</style>\n<table border=\"1\" class=\"dataframe\">\n  <thead>\n    <tr style=\"text-align: right;\">\n      <th></th>\n      <th>Position</th>\n      <th>Video Game</th>\n      <th>Weekly Sales</th>\n      <th>Week</th>\n    </tr>\n  </thead>\n  <tbody>\n    <tr>\n      <th>0</th>\n      <td>1</td>\n      <td>Super Smash Bros.</td>\n      <td>432,869</td>\n      <td>18th Nov 2017</td>\n    </tr>\n    <tr>\n      <th>2</th>\n      <td>2</td>\n      <td>Red Dead Redemption 2</td>\n      <td>215,113</td>\n      <td>18th Nov 2017</td>\n    </tr>\n    <tr>\n      <th>4</th>\n      <td>3</td>\n      <td>Call of Duty: Black Ops IIII</td>\n      <td>198,626</td>\n      <td>18th Nov 2017</td>\n    </tr>\n    <tr>\n      <th>6</th>\n      <td>4</td>\n      <td>Spider-Man</td>\n      <td>167,154</td>\n      <td>18th Nov 2017</td>\n    </tr>\n    <tr>\n      <th>8</th>\n      <td>5</td>\n      <td>Mario Kart 8 Deluxe</td>\n      <td>161,657</td>\n      <td>18th Nov 2017</td>\n    </tr>\n    <tr>\n      <th>...</th>\n      <td>...</td>\n      <td>...</td>\n      <td>...</td>\n      <td>...</td>\n    </tr>\n    <tr>\n      <th>8840</th>\n      <td>71</td>\n      <td>BioShock The Collection</td>\n      <td>Pro</td>\n      <td>29th Dec 2018</td>\n    </tr>\n    <tr>\n      <th>8842</th>\n      <td>72</td>\n      <td>Tom Clancy's Rainbow Six: Siege</td>\n      <td>Pro</td>\n      <td>29th Dec 2018</td>\n    </tr>\n    <tr>\n      <th>8844</th>\n      <td>73</td>\n      <td>Forza Horizon 3</td>\n      <td>Pro</td>\n      <td>29th Dec 2018</td>\n    </tr>\n    <tr>\n      <th>8846</th>\n      <td>74</td>\n      <td>The Evil Within II</td>\n      <td>Pro</td>\n      <td>29th Dec 2018</td>\n    </tr>\n    <tr>\n      <th>8848</th>\n      <td>75</td>\n      <td>New Super Mario Bros. 2</td>\n      <td>Pro</td>\n      <td>29th Dec 2018</td>\n    </tr>\n  </tbody>\n</table>\n<p>4425 rows × 4 columns</p>\n</div>"
     },
     "metadata": {},
     "execution_count": 14
    }
   ],
   "source": [
    "split_df = cleaned_df[\"Video Game\"].str.split(\"(\", n=1, expand=True)\n",
    "\n",
    "cleaned_df[\"Video Game\"] = split_df[0]\n",
    "#cleaned_df.to_csv(\"Video_Games_Cleaned.csv\")\n",
    "cleaned_df"
   ]
  },
  {
   "cell_type": "code",
   "execution_count": 15,
   "metadata": {},
   "outputs": [
    {
     "output_type": "execute_result",
     "data": {
      "text/plain": [
       "          video_id  Unnamed: 1                0\n",
       "0      lsfzA7sWlOM           0         nintendo\n",
       "1      lsfzA7sWlOM           1           \"play\"\n",
       "2      lsfzA7sWlOM           2  \"play nintendo\"\n",
       "3      lsfzA7sWlOM           3           \"game\"\n",
       "4      lsfzA7sWlOM           4       \"gameplay\"\n",
       "...            ...         ...              ...\n",
       "14713  Xr2rgT9uEnA           7            \"lol\"\n",
       "14714  ooyjaVdt-jA           0     call of duty\n",
       "14715  ooyjaVdt-jA           1            \"cod\"\n",
       "14716  ooyjaVdt-jA           2     \"activision\"\n",
       "14717  ooyjaVdt-jA           3    \"Black Ops 4\"\n",
       "\n",
       "[14718 rows x 3 columns]"
      ],
      "text/html": "<div>\n<style scoped>\n    .dataframe tbody tr th:only-of-type {\n        vertical-align: middle;\n    }\n\n    .dataframe tbody tr th {\n        vertical-align: top;\n    }\n\n    .dataframe thead th {\n        text-align: right;\n    }\n</style>\n<table border=\"1\" class=\"dataframe\">\n  <thead>\n    <tr style=\"text-align: right;\">\n      <th></th>\n      <th>video_id</th>\n      <th>Unnamed: 1</th>\n      <th>0</th>\n    </tr>\n  </thead>\n  <tbody>\n    <tr>\n      <th>0</th>\n      <td>lsfzA7sWlOM</td>\n      <td>0</td>\n      <td>nintendo</td>\n    </tr>\n    <tr>\n      <th>1</th>\n      <td>lsfzA7sWlOM</td>\n      <td>1</td>\n      <td>\"play\"</td>\n    </tr>\n    <tr>\n      <th>2</th>\n      <td>lsfzA7sWlOM</td>\n      <td>2</td>\n      <td>\"play nintendo\"</td>\n    </tr>\n    <tr>\n      <th>3</th>\n      <td>lsfzA7sWlOM</td>\n      <td>3</td>\n      <td>\"game\"</td>\n    </tr>\n    <tr>\n      <th>4</th>\n      <td>lsfzA7sWlOM</td>\n      <td>4</td>\n      <td>\"gameplay\"</td>\n    </tr>\n    <tr>\n      <th>...</th>\n      <td>...</td>\n      <td>...</td>\n      <td>...</td>\n    </tr>\n    <tr>\n      <th>14713</th>\n      <td>Xr2rgT9uEnA</td>\n      <td>7</td>\n      <td>\"lol\"</td>\n    </tr>\n    <tr>\n      <th>14714</th>\n      <td>ooyjaVdt-jA</td>\n      <td>0</td>\n      <td>call of duty</td>\n    </tr>\n    <tr>\n      <th>14715</th>\n      <td>ooyjaVdt-jA</td>\n      <td>1</td>\n      <td>\"cod\"</td>\n    </tr>\n    <tr>\n      <th>14716</th>\n      <td>ooyjaVdt-jA</td>\n      <td>2</td>\n      <td>\"activision\"</td>\n    </tr>\n    <tr>\n      <th>14717</th>\n      <td>ooyjaVdt-jA</td>\n      <td>3</td>\n      <td>\"Black Ops 4\"</td>\n    </tr>\n  </tbody>\n</table>\n<p>14718 rows × 3 columns</p>\n</div>"
     },
     "metadata": {},
     "execution_count": 15
    }
   ],
   "source": [
    "video_df = pd.read_csv(\"YT_data\\Videos_Cleaned.csv\")\n",
    "video_df"
   ]
  },
  {
   "cell_type": "code",
   "execution_count": 16,
   "metadata": {},
   "outputs": [],
   "source": [
    "#Regex string matching\n",
    "\n",
    "cleaned_df['join'] = 1\n",
    "video_df['join'] = 1\n",
    "\n",
    "dfFull = cleaned_df.merge(video_df, on='join').drop('join', axis=1)\n",
    "video_df.drop('join', axis=1, inplace=True)\n",
    "\n",
    "dfFull['match'] = dfFull.apply(lambda x: x[\"Video Game\"].lower().find(x[\"0\"].lower()), axis=1).ge(0)"
   ]
  },
  {
   "cell_type": "code",
   "execution_count": 17,
   "metadata": {},
   "outputs": [
    {
     "output_type": "execute_result",
     "data": {
      "text/plain": [
       "         Position                Video Game Weekly Sales           Week  \\\n",
       "5075            1        Super Smash Bros.       432,869  18th Nov 2017   \n",
       "5155            1        Super Smash Bros.       432,869  18th Nov 2017   \n",
       "5235            1        Super Smash Bros.       432,869  18th Nov 2017   \n",
       "5315            1        Super Smash Bros.       432,869  18th Nov 2017   \n",
       "5395            1        Super Smash Bros.       432,869  18th Nov 2017   \n",
       "...           ...                       ...          ...            ...   \n",
       "65119616       75  New Super Mario Bros. 2           Pro  29th Dec 2018   \n",
       "65119688       75  New Super Mario Bros. 2           Pro  29th Dec 2018   \n",
       "65119760       75  New Super Mario Bros. 2           Pro  29th Dec 2018   \n",
       "65119832       75  New Super Mario Bros. 2           Pro  29th Dec 2018   \n",
       "65119904       75  New Super Mario Bros. 2           Pro  29th Dec 2018   \n",
       "\n",
       "             video_id  Unnamed: 1                 0  match  \n",
       "5075      JKP-rOESfMs           0  Super Smash Bros   True  \n",
       "5155      JKP-rOESfMs           0  Super Smash Bros   True  \n",
       "5235      JKP-rOESfMs           0  Super Smash Bros   True  \n",
       "5315      JKP-rOESfMs           0  Super Smash Bros   True  \n",
       "5395      JKP-rOESfMs           0  Super Smash Bros   True  \n",
       "...               ...         ...               ...    ...  \n",
       "65119616  b8GGWHGkx3Y           0               new   True  \n",
       "65119688  b8GGWHGkx3Y           0               new   True  \n",
       "65119760  b8GGWHGkx3Y           0               new   True  \n",
       "65119832  b8GGWHGkx3Y           0               new   True  \n",
       "65119904  b8GGWHGkx3Y           0               new   True  \n",
       "\n",
       "[16388 rows x 8 columns]"
      ],
      "text/html": "<div>\n<style scoped>\n    .dataframe tbody tr th:only-of-type {\n        vertical-align: middle;\n    }\n\n    .dataframe tbody tr th {\n        vertical-align: top;\n    }\n\n    .dataframe thead th {\n        text-align: right;\n    }\n</style>\n<table border=\"1\" class=\"dataframe\">\n  <thead>\n    <tr style=\"text-align: right;\">\n      <th></th>\n      <th>Position</th>\n      <th>Video Game</th>\n      <th>Weekly Sales</th>\n      <th>Week</th>\n      <th>video_id</th>\n      <th>Unnamed: 1</th>\n      <th>0</th>\n      <th>match</th>\n    </tr>\n  </thead>\n  <tbody>\n    <tr>\n      <th>5075</th>\n      <td>1</td>\n      <td>Super Smash Bros.</td>\n      <td>432,869</td>\n      <td>18th Nov 2017</td>\n      <td>JKP-rOESfMs</td>\n      <td>0</td>\n      <td>Super Smash Bros</td>\n      <td>True</td>\n    </tr>\n    <tr>\n      <th>5155</th>\n      <td>1</td>\n      <td>Super Smash Bros.</td>\n      <td>432,869</td>\n      <td>18th Nov 2017</td>\n      <td>JKP-rOESfMs</td>\n      <td>0</td>\n      <td>Super Smash Bros</td>\n      <td>True</td>\n    </tr>\n    <tr>\n      <th>5235</th>\n      <td>1</td>\n      <td>Super Smash Bros.</td>\n      <td>432,869</td>\n      <td>18th Nov 2017</td>\n      <td>JKP-rOESfMs</td>\n      <td>0</td>\n      <td>Super Smash Bros</td>\n      <td>True</td>\n    </tr>\n    <tr>\n      <th>5315</th>\n      <td>1</td>\n      <td>Super Smash Bros.</td>\n      <td>432,869</td>\n      <td>18th Nov 2017</td>\n      <td>JKP-rOESfMs</td>\n      <td>0</td>\n      <td>Super Smash Bros</td>\n      <td>True</td>\n    </tr>\n    <tr>\n      <th>5395</th>\n      <td>1</td>\n      <td>Super Smash Bros.</td>\n      <td>432,869</td>\n      <td>18th Nov 2017</td>\n      <td>JKP-rOESfMs</td>\n      <td>0</td>\n      <td>Super Smash Bros</td>\n      <td>True</td>\n    </tr>\n    <tr>\n      <th>...</th>\n      <td>...</td>\n      <td>...</td>\n      <td>...</td>\n      <td>...</td>\n      <td>...</td>\n      <td>...</td>\n      <td>...</td>\n      <td>...</td>\n    </tr>\n    <tr>\n      <th>65119616</th>\n      <td>75</td>\n      <td>New Super Mario Bros. 2</td>\n      <td>Pro</td>\n      <td>29th Dec 2018</td>\n      <td>b8GGWHGkx3Y</td>\n      <td>0</td>\n      <td>new</td>\n      <td>True</td>\n    </tr>\n    <tr>\n      <th>65119688</th>\n      <td>75</td>\n      <td>New Super Mario Bros. 2</td>\n      <td>Pro</td>\n      <td>29th Dec 2018</td>\n      <td>b8GGWHGkx3Y</td>\n      <td>0</td>\n      <td>new</td>\n      <td>True</td>\n    </tr>\n    <tr>\n      <th>65119760</th>\n      <td>75</td>\n      <td>New Super Mario Bros. 2</td>\n      <td>Pro</td>\n      <td>29th Dec 2018</td>\n      <td>b8GGWHGkx3Y</td>\n      <td>0</td>\n      <td>new</td>\n      <td>True</td>\n    </tr>\n    <tr>\n      <th>65119832</th>\n      <td>75</td>\n      <td>New Super Mario Bros. 2</td>\n      <td>Pro</td>\n      <td>29th Dec 2018</td>\n      <td>b8GGWHGkx3Y</td>\n      <td>0</td>\n      <td>new</td>\n      <td>True</td>\n    </tr>\n    <tr>\n      <th>65119904</th>\n      <td>75</td>\n      <td>New Super Mario Bros. 2</td>\n      <td>Pro</td>\n      <td>29th Dec 2018</td>\n      <td>b8GGWHGkx3Y</td>\n      <td>0</td>\n      <td>new</td>\n      <td>True</td>\n    </tr>\n  </tbody>\n</table>\n<p>16388 rows × 8 columns</p>\n</div>"
     },
     "metadata": {},
     "execution_count": 17
    }
   ],
   "source": [
    "narrow_games = dfFull.loc[dfFull['match'] == True]\n",
    "narrow_games"
   ]
  },
  {
   "cell_type": "code",
   "execution_count": 18,
   "metadata": {},
   "outputs": [
    {
     "output_type": "execute_result",
     "data": {
      "text/plain": [
       "         Position                                     Video Game Weekly Sales  \\\n",
       "6772221        11                       Spyro Reignited Trilogy        96,985   \n",
       "6773124        11                       Spyro Reignited Trilogy        96,985   \n",
       "6773541        11                       Spyro Reignited Trilogy        96,985   \n",
       "6774519        11                       Spyro Reignited Trilogy        96,985   \n",
       "13304735        4                      Assassin's Creed Odyssey       218,645   \n",
       "39741963        1                                    God of War     1,127,294   \n",
       "59292742       54                                      Fortnite           Pro   \n",
       "59293620       54                                      Fortnite           Pro   \n",
       "59294522       54                                      Fortnite           Pro   \n",
       "59298415       54                                      Fortnite           Pro   \n",
       "59298779       54                                      Fortnite           Pro   \n",
       "61565426       59                  Monopoly for Nintendo Switch           Pro   \n",
       "61566412       59                  Monopoly for Nintendo Switch           Pro   \n",
       "61566535       59                  Monopoly for Nintendo Switch           Pro   \n",
       "61566963       59                  Monopoly for Nintendo Switch           Pro   \n",
       "61567670       59                  Monopoly for Nintendo Switch           Pro   \n",
       "61568387       59                  Monopoly for Nintendo Switch           Pro   \n",
       "61569107       59                  Monopoly for Nintendo Switch           Pro   \n",
       "61569506       59                  Monopoly for Nintendo Switch           Pro   \n",
       "61570319       59                  Monopoly for Nintendo Switch           Pro   \n",
       "61571396       59                  Monopoly for Nintendo Switch           Pro   \n",
       "61572205       59                  Monopoly for Nintendo Switch           Pro   \n",
       "61577773       59                  Monopoly for Nintendo Switch           Pro   \n",
       "61579305       59                  Monopoly for Nintendo Switch           Pro   \n",
       "61579689       59                  Monopoly for Nintendo Switch           Pro   \n",
       "61791945       74                       Super Smash Bros. Wii U           Pro   \n",
       "61800485       74                       Super Smash Bros. Wii U           Pro   \n",
       "64088287        5                            Call of Duty: WWII       234,393   \n",
       "64096886        5                            Call of Duty: WWII       234,393   \n",
       "64170403       10                                    The Sims 4        41,198   \n",
       "64188303       12              The Elder Scrolls V: Skyrim PSVR        39,668   \n",
       "64302781       19                                 Madden NFL 18        33,202   \n",
       "64394910       26                                       FIFA 18        28,161   \n",
       "64751461       50                                  Sonic Forces           Pro   \n",
       "64992138       66                              Pokemon Sun/Moon           Pro   \n",
       "65009183       67  Kingdom Hearts HD 2.8 Final Chapter Prologue           Pro   \n",
       "65119904       75                       New Super Mario Bros. 2           Pro   \n",
       "\n",
       "                   Week     video_id  Unnamed: 1                         0  \\\n",
       "6772221   30th Dec 2017  3mB2fIt7vzw           0                       IGN   \n",
       "6773124   30th Dec 2017  4uvDgYKLgcU           0                       IGN   \n",
       "6773541   30th Dec 2017  ZWMp9BpWODk           0                       IGN   \n",
       "6774519   30th Dec 2017  bOG0X1WvXVU           0                       IGN   \n",
       "13304735  10th Feb 2018  s_SJZSAtLBA           0  Assassin's Creed Odyssey   \n",
       "39741963  28th Jul 2018  K0u_kAWLJOA           0                God of War   \n",
       "59292742  24th Nov 2018  igczJLuaelg           0                  Fortnite   \n",
       "59293620  24th Nov 2018  sq4hYZlDPec           0                  fortnite   \n",
       "59294522  24th Nov 2018  fDRrqJU4-Tk           0                  Fortnite   \n",
       "59298415  24th Nov 2018  qPEIPu0V8GQ           0                  Fortnite   \n",
       "59298779  24th Nov 2018  vDyYMcjf500           0                  fortnite   \n",
       "61565426  08th Dec 2018  lsfzA7sWlOM           0                  nintendo   \n",
       "61566412  08th Dec 2018  dyBFAX4SDEc           0                  nintendo   \n",
       "61566535  08th Dec 2018  wtTmLBfIiG4           0                  nintendo   \n",
       "61566963  08th Dec 2018  sD_31GJmhUc           0                  nintendo   \n",
       "61567670  08th Dec 2018  a_u7g5BlfiY           0                  nintendo   \n",
       "61568387  08th Dec 2018  P3Bd3HUMkyU           0                  nintendo   \n",
       "61569107  08th Dec 2018  OVnxBcS5qWo           0                  nintendo   \n",
       "61569506  08th Dec 2018  q57eQqq9-IA           0                  nintendo   \n",
       "61570319  08th Dec 2018  lXZiKYpRCa0           0                  nintendo   \n",
       "61571396  08th Dec 2018  NsFna-Z1MjU           0                  nintendo   \n",
       "61572205  08th Dec 2018  0NWKUHl6JLY           0                  nintendo   \n",
       "61577773  08th Dec 2018  ouWuzQb9vNg           0                  nintendo   \n",
       "61579305  08th Dec 2018  FchkqXEg0qs           0                  nintendo   \n",
       "61579689  08th Dec 2018  8O-ZUXGcuWU           0                  nintendo   \n",
       "61791945  08th Dec 2018  JKP-rOESfMs           0          Super Smash Bros   \n",
       "61800485  08th Dec 2018  uHRwMmwbFnA           0                     Smash   \n",
       "64088287  29th Dec 2018  tJv-xtxKkQY           0              call of duty   \n",
       "64096886  29th Dec 2018  ooyjaVdt-jA           0              call of duty   \n",
       "64170403  29th Dec 2018  tn0hCTyj2Kc           0                The Sims 4   \n",
       "64188303  29th Dec 2018  3rIjcRK_BNU           0                        vr   \n",
       "64302781  29th Dec 2018  Js04hvdVUA8           0                    madden   \n",
       "64394910  29th Dec 2018  WB8ozD7l02w           0                      fifa   \n",
       "64751461  29th Dec 2018  T2uyIBURMjs           0                     sonic   \n",
       "64992138  29th Dec 2018  ZhEz1cvC1rc           0                   pokemon   \n",
       "65009183  29th Dec 2018  gPtU_-N6dMg           0            Kingdom Hearts   \n",
       "65119904  29th Dec 2018  b8GGWHGkx3Y           0                       new   \n",
       "\n",
       "          match  \n",
       "6772221    True  \n",
       "6773124    True  \n",
       "6773541    True  \n",
       "6774519    True  \n",
       "13304735   True  \n",
       "39741963   True  \n",
       "59292742   True  \n",
       "59293620   True  \n",
       "59294522   True  \n",
       "59298415   True  \n",
       "59298779   True  \n",
       "61565426   True  \n",
       "61566412   True  \n",
       "61566535   True  \n",
       "61566963   True  \n",
       "61567670   True  \n",
       "61568387   True  \n",
       "61569107   True  \n",
       "61569506   True  \n",
       "61570319   True  \n",
       "61571396   True  \n",
       "61572205   True  \n",
       "61577773   True  \n",
       "61579305   True  \n",
       "61579689   True  \n",
       "61791945   True  \n",
       "61800485   True  \n",
       "64088287   True  \n",
       "64096886   True  \n",
       "64170403   True  \n",
       "64188303   True  \n",
       "64302781   True  \n",
       "64394910   True  \n",
       "64751461   True  \n",
       "64992138   True  \n",
       "65009183   True  \n",
       "65119904   True  "
      ],
      "text/html": "<div>\n<style scoped>\n    .dataframe tbody tr th:only-of-type {\n        vertical-align: middle;\n    }\n\n    .dataframe tbody tr th {\n        vertical-align: top;\n    }\n\n    .dataframe thead th {\n        text-align: right;\n    }\n</style>\n<table border=\"1\" class=\"dataframe\">\n  <thead>\n    <tr style=\"text-align: right;\">\n      <th></th>\n      <th>Position</th>\n      <th>Video Game</th>\n      <th>Weekly Sales</th>\n      <th>Week</th>\n      <th>video_id</th>\n      <th>Unnamed: 1</th>\n      <th>0</th>\n      <th>match</th>\n    </tr>\n  </thead>\n  <tbody>\n    <tr>\n      <th>6772221</th>\n      <td>11</td>\n      <td>Spyro Reignited Trilogy</td>\n      <td>96,985</td>\n      <td>30th Dec 2017</td>\n      <td>3mB2fIt7vzw</td>\n      <td>0</td>\n      <td>IGN</td>\n      <td>True</td>\n    </tr>\n    <tr>\n      <th>6773124</th>\n      <td>11</td>\n      <td>Spyro Reignited Trilogy</td>\n      <td>96,985</td>\n      <td>30th Dec 2017</td>\n      <td>4uvDgYKLgcU</td>\n      <td>0</td>\n      <td>IGN</td>\n      <td>True</td>\n    </tr>\n    <tr>\n      <th>6773541</th>\n      <td>11</td>\n      <td>Spyro Reignited Trilogy</td>\n      <td>96,985</td>\n      <td>30th Dec 2017</td>\n      <td>ZWMp9BpWODk</td>\n      <td>0</td>\n      <td>IGN</td>\n      <td>True</td>\n    </tr>\n    <tr>\n      <th>6774519</th>\n      <td>11</td>\n      <td>Spyro Reignited Trilogy</td>\n      <td>96,985</td>\n      <td>30th Dec 2017</td>\n      <td>bOG0X1WvXVU</td>\n      <td>0</td>\n      <td>IGN</td>\n      <td>True</td>\n    </tr>\n    <tr>\n      <th>13304735</th>\n      <td>4</td>\n      <td>Assassin's Creed Odyssey</td>\n      <td>218,645</td>\n      <td>10th Feb 2018</td>\n      <td>s_SJZSAtLBA</td>\n      <td>0</td>\n      <td>Assassin's Creed Odyssey</td>\n      <td>True</td>\n    </tr>\n    <tr>\n      <th>39741963</th>\n      <td>1</td>\n      <td>God of War</td>\n      <td>1,127,294</td>\n      <td>28th Jul 2018</td>\n      <td>K0u_kAWLJOA</td>\n      <td>0</td>\n      <td>God of War</td>\n      <td>True</td>\n    </tr>\n    <tr>\n      <th>59292742</th>\n      <td>54</td>\n      <td>Fortnite</td>\n      <td>Pro</td>\n      <td>24th Nov 2018</td>\n      <td>igczJLuaelg</td>\n      <td>0</td>\n      <td>Fortnite</td>\n      <td>True</td>\n    </tr>\n    <tr>\n      <th>59293620</th>\n      <td>54</td>\n      <td>Fortnite</td>\n      <td>Pro</td>\n      <td>24th Nov 2018</td>\n      <td>sq4hYZlDPec</td>\n      <td>0</td>\n      <td>fortnite</td>\n      <td>True</td>\n    </tr>\n    <tr>\n      <th>59294522</th>\n      <td>54</td>\n      <td>Fortnite</td>\n      <td>Pro</td>\n      <td>24th Nov 2018</td>\n      <td>fDRrqJU4-Tk</td>\n      <td>0</td>\n      <td>Fortnite</td>\n      <td>True</td>\n    </tr>\n    <tr>\n      <th>59298415</th>\n      <td>54</td>\n      <td>Fortnite</td>\n      <td>Pro</td>\n      <td>24th Nov 2018</td>\n      <td>qPEIPu0V8GQ</td>\n      <td>0</td>\n      <td>Fortnite</td>\n      <td>True</td>\n    </tr>\n    <tr>\n      <th>59298779</th>\n      <td>54</td>\n      <td>Fortnite</td>\n      <td>Pro</td>\n      <td>24th Nov 2018</td>\n      <td>vDyYMcjf500</td>\n      <td>0</td>\n      <td>fortnite</td>\n      <td>True</td>\n    </tr>\n    <tr>\n      <th>61565426</th>\n      <td>59</td>\n      <td>Monopoly for Nintendo Switch</td>\n      <td>Pro</td>\n      <td>08th Dec 2018</td>\n      <td>lsfzA7sWlOM</td>\n      <td>0</td>\n      <td>nintendo</td>\n      <td>True</td>\n    </tr>\n    <tr>\n      <th>61566412</th>\n      <td>59</td>\n      <td>Monopoly for Nintendo Switch</td>\n      <td>Pro</td>\n      <td>08th Dec 2018</td>\n      <td>dyBFAX4SDEc</td>\n      <td>0</td>\n      <td>nintendo</td>\n      <td>True</td>\n    </tr>\n    <tr>\n      <th>61566535</th>\n      <td>59</td>\n      <td>Monopoly for Nintendo Switch</td>\n      <td>Pro</td>\n      <td>08th Dec 2018</td>\n      <td>wtTmLBfIiG4</td>\n      <td>0</td>\n      <td>nintendo</td>\n      <td>True</td>\n    </tr>\n    <tr>\n      <th>61566963</th>\n      <td>59</td>\n      <td>Monopoly for Nintendo Switch</td>\n      <td>Pro</td>\n      <td>08th Dec 2018</td>\n      <td>sD_31GJmhUc</td>\n      <td>0</td>\n      <td>nintendo</td>\n      <td>True</td>\n    </tr>\n    <tr>\n      <th>61567670</th>\n      <td>59</td>\n      <td>Monopoly for Nintendo Switch</td>\n      <td>Pro</td>\n      <td>08th Dec 2018</td>\n      <td>a_u7g5BlfiY</td>\n      <td>0</td>\n      <td>nintendo</td>\n      <td>True</td>\n    </tr>\n    <tr>\n      <th>61568387</th>\n      <td>59</td>\n      <td>Monopoly for Nintendo Switch</td>\n      <td>Pro</td>\n      <td>08th Dec 2018</td>\n      <td>P3Bd3HUMkyU</td>\n      <td>0</td>\n      <td>nintendo</td>\n      <td>True</td>\n    </tr>\n    <tr>\n      <th>61569107</th>\n      <td>59</td>\n      <td>Monopoly for Nintendo Switch</td>\n      <td>Pro</td>\n      <td>08th Dec 2018</td>\n      <td>OVnxBcS5qWo</td>\n      <td>0</td>\n      <td>nintendo</td>\n      <td>True</td>\n    </tr>\n    <tr>\n      <th>61569506</th>\n      <td>59</td>\n      <td>Monopoly for Nintendo Switch</td>\n      <td>Pro</td>\n      <td>08th Dec 2018</td>\n      <td>q57eQqq9-IA</td>\n      <td>0</td>\n      <td>nintendo</td>\n      <td>True</td>\n    </tr>\n    <tr>\n      <th>61570319</th>\n      <td>59</td>\n      <td>Monopoly for Nintendo Switch</td>\n      <td>Pro</td>\n      <td>08th Dec 2018</td>\n      <td>lXZiKYpRCa0</td>\n      <td>0</td>\n      <td>nintendo</td>\n      <td>True</td>\n    </tr>\n    <tr>\n      <th>61571396</th>\n      <td>59</td>\n      <td>Monopoly for Nintendo Switch</td>\n      <td>Pro</td>\n      <td>08th Dec 2018</td>\n      <td>NsFna-Z1MjU</td>\n      <td>0</td>\n      <td>nintendo</td>\n      <td>True</td>\n    </tr>\n    <tr>\n      <th>61572205</th>\n      <td>59</td>\n      <td>Monopoly for Nintendo Switch</td>\n      <td>Pro</td>\n      <td>08th Dec 2018</td>\n      <td>0NWKUHl6JLY</td>\n      <td>0</td>\n      <td>nintendo</td>\n      <td>True</td>\n    </tr>\n    <tr>\n      <th>61577773</th>\n      <td>59</td>\n      <td>Monopoly for Nintendo Switch</td>\n      <td>Pro</td>\n      <td>08th Dec 2018</td>\n      <td>ouWuzQb9vNg</td>\n      <td>0</td>\n      <td>nintendo</td>\n      <td>True</td>\n    </tr>\n    <tr>\n      <th>61579305</th>\n      <td>59</td>\n      <td>Monopoly for Nintendo Switch</td>\n      <td>Pro</td>\n      <td>08th Dec 2018</td>\n      <td>FchkqXEg0qs</td>\n      <td>0</td>\n      <td>nintendo</td>\n      <td>True</td>\n    </tr>\n    <tr>\n      <th>61579689</th>\n      <td>59</td>\n      <td>Monopoly for Nintendo Switch</td>\n      <td>Pro</td>\n      <td>08th Dec 2018</td>\n      <td>8O-ZUXGcuWU</td>\n      <td>0</td>\n      <td>nintendo</td>\n      <td>True</td>\n    </tr>\n    <tr>\n      <th>61791945</th>\n      <td>74</td>\n      <td>Super Smash Bros. Wii U</td>\n      <td>Pro</td>\n      <td>08th Dec 2018</td>\n      <td>JKP-rOESfMs</td>\n      <td>0</td>\n      <td>Super Smash Bros</td>\n      <td>True</td>\n    </tr>\n    <tr>\n      <th>61800485</th>\n      <td>74</td>\n      <td>Super Smash Bros. Wii U</td>\n      <td>Pro</td>\n      <td>08th Dec 2018</td>\n      <td>uHRwMmwbFnA</td>\n      <td>0</td>\n      <td>Smash</td>\n      <td>True</td>\n    </tr>\n    <tr>\n      <th>64088287</th>\n      <td>5</td>\n      <td>Call of Duty: WWII</td>\n      <td>234,393</td>\n      <td>29th Dec 2018</td>\n      <td>tJv-xtxKkQY</td>\n      <td>0</td>\n      <td>call of duty</td>\n      <td>True</td>\n    </tr>\n    <tr>\n      <th>64096886</th>\n      <td>5</td>\n      <td>Call of Duty: WWII</td>\n      <td>234,393</td>\n      <td>29th Dec 2018</td>\n      <td>ooyjaVdt-jA</td>\n      <td>0</td>\n      <td>call of duty</td>\n      <td>True</td>\n    </tr>\n    <tr>\n      <th>64170403</th>\n      <td>10</td>\n      <td>The Sims 4</td>\n      <td>41,198</td>\n      <td>29th Dec 2018</td>\n      <td>tn0hCTyj2Kc</td>\n      <td>0</td>\n      <td>The Sims 4</td>\n      <td>True</td>\n    </tr>\n    <tr>\n      <th>64188303</th>\n      <td>12</td>\n      <td>The Elder Scrolls V: Skyrim PSVR</td>\n      <td>39,668</td>\n      <td>29th Dec 2018</td>\n      <td>3rIjcRK_BNU</td>\n      <td>0</td>\n      <td>vr</td>\n      <td>True</td>\n    </tr>\n    <tr>\n      <th>64302781</th>\n      <td>19</td>\n      <td>Madden NFL 18</td>\n      <td>33,202</td>\n      <td>29th Dec 2018</td>\n      <td>Js04hvdVUA8</td>\n      <td>0</td>\n      <td>madden</td>\n      <td>True</td>\n    </tr>\n    <tr>\n      <th>64394910</th>\n      <td>26</td>\n      <td>FIFA 18</td>\n      <td>28,161</td>\n      <td>29th Dec 2018</td>\n      <td>WB8ozD7l02w</td>\n      <td>0</td>\n      <td>fifa</td>\n      <td>True</td>\n    </tr>\n    <tr>\n      <th>64751461</th>\n      <td>50</td>\n      <td>Sonic Forces</td>\n      <td>Pro</td>\n      <td>29th Dec 2018</td>\n      <td>T2uyIBURMjs</td>\n      <td>0</td>\n      <td>sonic</td>\n      <td>True</td>\n    </tr>\n    <tr>\n      <th>64992138</th>\n      <td>66</td>\n      <td>Pokemon Sun/Moon</td>\n      <td>Pro</td>\n      <td>29th Dec 2018</td>\n      <td>ZhEz1cvC1rc</td>\n      <td>0</td>\n      <td>pokemon</td>\n      <td>True</td>\n    </tr>\n    <tr>\n      <th>65009183</th>\n      <td>67</td>\n      <td>Kingdom Hearts HD 2.8 Final Chapter Prologue</td>\n      <td>Pro</td>\n      <td>29th Dec 2018</td>\n      <td>gPtU_-N6dMg</td>\n      <td>0</td>\n      <td>Kingdom Hearts</td>\n      <td>True</td>\n    </tr>\n    <tr>\n      <th>65119904</th>\n      <td>75</td>\n      <td>New Super Mario Bros. 2</td>\n      <td>Pro</td>\n      <td>29th Dec 2018</td>\n      <td>b8GGWHGkx3Y</td>\n      <td>0</td>\n      <td>new</td>\n      <td>True</td>\n    </tr>\n  </tbody>\n</table>\n</div>"
     },
     "metadata": {},
     "execution_count": 18
    }
   ],
   "source": [
    "new_narrow_df = narrow_games.drop_duplicates(subset='video_id', keep=\"last\")\n",
    "new_narrow_df"
   ]
  },
  {
   "source": [
    "final_videogames_df = new_narrow_df[['Position', 'Video Game', 'Weekly Sales', 'Week', 'video_id']]\n",
    "final_videogames_df"
   ],
   "cell_type": "code",
   "metadata": {},
   "execution_count": 19,
   "outputs": [
    {
     "output_type": "execute_result",
     "data": {
      "text/plain": [
       "         Position                                     Video Game Weekly Sales  \\\n",
       "6772221        11                       Spyro Reignited Trilogy        96,985   \n",
       "6773124        11                       Spyro Reignited Trilogy        96,985   \n",
       "6773541        11                       Spyro Reignited Trilogy        96,985   \n",
       "6774519        11                       Spyro Reignited Trilogy        96,985   \n",
       "13304735        4                      Assassin's Creed Odyssey       218,645   \n",
       "39741963        1                                    God of War     1,127,294   \n",
       "59292742       54                                      Fortnite           Pro   \n",
       "59293620       54                                      Fortnite           Pro   \n",
       "59294522       54                                      Fortnite           Pro   \n",
       "59298415       54                                      Fortnite           Pro   \n",
       "59298779       54                                      Fortnite           Pro   \n",
       "61565426       59                  Monopoly for Nintendo Switch           Pro   \n",
       "61566412       59                  Monopoly for Nintendo Switch           Pro   \n",
       "61566535       59                  Monopoly for Nintendo Switch           Pro   \n",
       "61566963       59                  Monopoly for Nintendo Switch           Pro   \n",
       "61567670       59                  Monopoly for Nintendo Switch           Pro   \n",
       "61568387       59                  Monopoly for Nintendo Switch           Pro   \n",
       "61569107       59                  Monopoly for Nintendo Switch           Pro   \n",
       "61569506       59                  Monopoly for Nintendo Switch           Pro   \n",
       "61570319       59                  Monopoly for Nintendo Switch           Pro   \n",
       "61571396       59                  Monopoly for Nintendo Switch           Pro   \n",
       "61572205       59                  Monopoly for Nintendo Switch           Pro   \n",
       "61577773       59                  Monopoly for Nintendo Switch           Pro   \n",
       "61579305       59                  Monopoly for Nintendo Switch           Pro   \n",
       "61579689       59                  Monopoly for Nintendo Switch           Pro   \n",
       "61791945       74                       Super Smash Bros. Wii U           Pro   \n",
       "61800485       74                       Super Smash Bros. Wii U           Pro   \n",
       "64088287        5                            Call of Duty: WWII       234,393   \n",
       "64096886        5                            Call of Duty: WWII       234,393   \n",
       "64170403       10                                    The Sims 4        41,198   \n",
       "64188303       12              The Elder Scrolls V: Skyrim PSVR        39,668   \n",
       "64302781       19                                 Madden NFL 18        33,202   \n",
       "64394910       26                                       FIFA 18        28,161   \n",
       "64751461       50                                  Sonic Forces           Pro   \n",
       "64992138       66                              Pokemon Sun/Moon           Pro   \n",
       "65009183       67  Kingdom Hearts HD 2.8 Final Chapter Prologue           Pro   \n",
       "65119904       75                       New Super Mario Bros. 2           Pro   \n",
       "\n",
       "                   Week     video_id  \n",
       "6772221   30th Dec 2017  3mB2fIt7vzw  \n",
       "6773124   30th Dec 2017  4uvDgYKLgcU  \n",
       "6773541   30th Dec 2017  ZWMp9BpWODk  \n",
       "6774519   30th Dec 2017  bOG0X1WvXVU  \n",
       "13304735  10th Feb 2018  s_SJZSAtLBA  \n",
       "39741963  28th Jul 2018  K0u_kAWLJOA  \n",
       "59292742  24th Nov 2018  igczJLuaelg  \n",
       "59293620  24th Nov 2018  sq4hYZlDPec  \n",
       "59294522  24th Nov 2018  fDRrqJU4-Tk  \n",
       "59298415  24th Nov 2018  qPEIPu0V8GQ  \n",
       "59298779  24th Nov 2018  vDyYMcjf500  \n",
       "61565426  08th Dec 2018  lsfzA7sWlOM  \n",
       "61566412  08th Dec 2018  dyBFAX4SDEc  \n",
       "61566535  08th Dec 2018  wtTmLBfIiG4  \n",
       "61566963  08th Dec 2018  sD_31GJmhUc  \n",
       "61567670  08th Dec 2018  a_u7g5BlfiY  \n",
       "61568387  08th Dec 2018  P3Bd3HUMkyU  \n",
       "61569107  08th Dec 2018  OVnxBcS5qWo  \n",
       "61569506  08th Dec 2018  q57eQqq9-IA  \n",
       "61570319  08th Dec 2018  lXZiKYpRCa0  \n",
       "61571396  08th Dec 2018  NsFna-Z1MjU  \n",
       "61572205  08th Dec 2018  0NWKUHl6JLY  \n",
       "61577773  08th Dec 2018  ouWuzQb9vNg  \n",
       "61579305  08th Dec 2018  FchkqXEg0qs  \n",
       "61579689  08th Dec 2018  8O-ZUXGcuWU  \n",
       "61791945  08th Dec 2018  JKP-rOESfMs  \n",
       "61800485  08th Dec 2018  uHRwMmwbFnA  \n",
       "64088287  29th Dec 2018  tJv-xtxKkQY  \n",
       "64096886  29th Dec 2018  ooyjaVdt-jA  \n",
       "64170403  29th Dec 2018  tn0hCTyj2Kc  \n",
       "64188303  29th Dec 2018  3rIjcRK_BNU  \n",
       "64302781  29th Dec 2018  Js04hvdVUA8  \n",
       "64394910  29th Dec 2018  WB8ozD7l02w  \n",
       "64751461  29th Dec 2018  T2uyIBURMjs  \n",
       "64992138  29th Dec 2018  ZhEz1cvC1rc  \n",
       "65009183  29th Dec 2018  gPtU_-N6dMg  \n",
       "65119904  29th Dec 2018  b8GGWHGkx3Y  "
      ],
      "text/html": "<div>\n<style scoped>\n    .dataframe tbody tr th:only-of-type {\n        vertical-align: middle;\n    }\n\n    .dataframe tbody tr th {\n        vertical-align: top;\n    }\n\n    .dataframe thead th {\n        text-align: right;\n    }\n</style>\n<table border=\"1\" class=\"dataframe\">\n  <thead>\n    <tr style=\"text-align: right;\">\n      <th></th>\n      <th>Position</th>\n      <th>Video Game</th>\n      <th>Weekly Sales</th>\n      <th>Week</th>\n      <th>video_id</th>\n    </tr>\n  </thead>\n  <tbody>\n    <tr>\n      <th>6772221</th>\n      <td>11</td>\n      <td>Spyro Reignited Trilogy</td>\n      <td>96,985</td>\n      <td>30th Dec 2017</td>\n      <td>3mB2fIt7vzw</td>\n    </tr>\n    <tr>\n      <th>6773124</th>\n      <td>11</td>\n      <td>Spyro Reignited Trilogy</td>\n      <td>96,985</td>\n      <td>30th Dec 2017</td>\n      <td>4uvDgYKLgcU</td>\n    </tr>\n    <tr>\n      <th>6773541</th>\n      <td>11</td>\n      <td>Spyro Reignited Trilogy</td>\n      <td>96,985</td>\n      <td>30th Dec 2017</td>\n      <td>ZWMp9BpWODk</td>\n    </tr>\n    <tr>\n      <th>6774519</th>\n      <td>11</td>\n      <td>Spyro Reignited Trilogy</td>\n      <td>96,985</td>\n      <td>30th Dec 2017</td>\n      <td>bOG0X1WvXVU</td>\n    </tr>\n    <tr>\n      <th>13304735</th>\n      <td>4</td>\n      <td>Assassin's Creed Odyssey</td>\n      <td>218,645</td>\n      <td>10th Feb 2018</td>\n      <td>s_SJZSAtLBA</td>\n    </tr>\n    <tr>\n      <th>39741963</th>\n      <td>1</td>\n      <td>God of War</td>\n      <td>1,127,294</td>\n      <td>28th Jul 2018</td>\n      <td>K0u_kAWLJOA</td>\n    </tr>\n    <tr>\n      <th>59292742</th>\n      <td>54</td>\n      <td>Fortnite</td>\n      <td>Pro</td>\n      <td>24th Nov 2018</td>\n      <td>igczJLuaelg</td>\n    </tr>\n    <tr>\n      <th>59293620</th>\n      <td>54</td>\n      <td>Fortnite</td>\n      <td>Pro</td>\n      <td>24th Nov 2018</td>\n      <td>sq4hYZlDPec</td>\n    </tr>\n    <tr>\n      <th>59294522</th>\n      <td>54</td>\n      <td>Fortnite</td>\n      <td>Pro</td>\n      <td>24th Nov 2018</td>\n      <td>fDRrqJU4-Tk</td>\n    </tr>\n    <tr>\n      <th>59298415</th>\n      <td>54</td>\n      <td>Fortnite</td>\n      <td>Pro</td>\n      <td>24th Nov 2018</td>\n      <td>qPEIPu0V8GQ</td>\n    </tr>\n    <tr>\n      <th>59298779</th>\n      <td>54</td>\n      <td>Fortnite</td>\n      <td>Pro</td>\n      <td>24th Nov 2018</td>\n      <td>vDyYMcjf500</td>\n    </tr>\n    <tr>\n      <th>61565426</th>\n      <td>59</td>\n      <td>Monopoly for Nintendo Switch</td>\n      <td>Pro</td>\n      <td>08th Dec 2018</td>\n      <td>lsfzA7sWlOM</td>\n    </tr>\n    <tr>\n      <th>61566412</th>\n      <td>59</td>\n      <td>Monopoly for Nintendo Switch</td>\n      <td>Pro</td>\n      <td>08th Dec 2018</td>\n      <td>dyBFAX4SDEc</td>\n    </tr>\n    <tr>\n      <th>61566535</th>\n      <td>59</td>\n      <td>Monopoly for Nintendo Switch</td>\n      <td>Pro</td>\n      <td>08th Dec 2018</td>\n      <td>wtTmLBfIiG4</td>\n    </tr>\n    <tr>\n      <th>61566963</th>\n      <td>59</td>\n      <td>Monopoly for Nintendo Switch</td>\n      <td>Pro</td>\n      <td>08th Dec 2018</td>\n      <td>sD_31GJmhUc</td>\n    </tr>\n    <tr>\n      <th>61567670</th>\n      <td>59</td>\n      <td>Monopoly for Nintendo Switch</td>\n      <td>Pro</td>\n      <td>08th Dec 2018</td>\n      <td>a_u7g5BlfiY</td>\n    </tr>\n    <tr>\n      <th>61568387</th>\n      <td>59</td>\n      <td>Monopoly for Nintendo Switch</td>\n      <td>Pro</td>\n      <td>08th Dec 2018</td>\n      <td>P3Bd3HUMkyU</td>\n    </tr>\n    <tr>\n      <th>61569107</th>\n      <td>59</td>\n      <td>Monopoly for Nintendo Switch</td>\n      <td>Pro</td>\n      <td>08th Dec 2018</td>\n      <td>OVnxBcS5qWo</td>\n    </tr>\n    <tr>\n      <th>61569506</th>\n      <td>59</td>\n      <td>Monopoly for Nintendo Switch</td>\n      <td>Pro</td>\n      <td>08th Dec 2018</td>\n      <td>q57eQqq9-IA</td>\n    </tr>\n    <tr>\n      <th>61570319</th>\n      <td>59</td>\n      <td>Monopoly for Nintendo Switch</td>\n      <td>Pro</td>\n      <td>08th Dec 2018</td>\n      <td>lXZiKYpRCa0</td>\n    </tr>\n    <tr>\n      <th>61571396</th>\n      <td>59</td>\n      <td>Monopoly for Nintendo Switch</td>\n      <td>Pro</td>\n      <td>08th Dec 2018</td>\n      <td>NsFna-Z1MjU</td>\n    </tr>\n    <tr>\n      <th>61572205</th>\n      <td>59</td>\n      <td>Monopoly for Nintendo Switch</td>\n      <td>Pro</td>\n      <td>08th Dec 2018</td>\n      <td>0NWKUHl6JLY</td>\n    </tr>\n    <tr>\n      <th>61577773</th>\n      <td>59</td>\n      <td>Monopoly for Nintendo Switch</td>\n      <td>Pro</td>\n      <td>08th Dec 2018</td>\n      <td>ouWuzQb9vNg</td>\n    </tr>\n    <tr>\n      <th>61579305</th>\n      <td>59</td>\n      <td>Monopoly for Nintendo Switch</td>\n      <td>Pro</td>\n      <td>08th Dec 2018</td>\n      <td>FchkqXEg0qs</td>\n    </tr>\n    <tr>\n      <th>61579689</th>\n      <td>59</td>\n      <td>Monopoly for Nintendo Switch</td>\n      <td>Pro</td>\n      <td>08th Dec 2018</td>\n      <td>8O-ZUXGcuWU</td>\n    </tr>\n    <tr>\n      <th>61791945</th>\n      <td>74</td>\n      <td>Super Smash Bros. Wii U</td>\n      <td>Pro</td>\n      <td>08th Dec 2018</td>\n      <td>JKP-rOESfMs</td>\n    </tr>\n    <tr>\n      <th>61800485</th>\n      <td>74</td>\n      <td>Super Smash Bros. Wii U</td>\n      <td>Pro</td>\n      <td>08th Dec 2018</td>\n      <td>uHRwMmwbFnA</td>\n    </tr>\n    <tr>\n      <th>64088287</th>\n      <td>5</td>\n      <td>Call of Duty: WWII</td>\n      <td>234,393</td>\n      <td>29th Dec 2018</td>\n      <td>tJv-xtxKkQY</td>\n    </tr>\n    <tr>\n      <th>64096886</th>\n      <td>5</td>\n      <td>Call of Duty: WWII</td>\n      <td>234,393</td>\n      <td>29th Dec 2018</td>\n      <td>ooyjaVdt-jA</td>\n    </tr>\n    <tr>\n      <th>64170403</th>\n      <td>10</td>\n      <td>The Sims 4</td>\n      <td>41,198</td>\n      <td>29th Dec 2018</td>\n      <td>tn0hCTyj2Kc</td>\n    </tr>\n    <tr>\n      <th>64188303</th>\n      <td>12</td>\n      <td>The Elder Scrolls V: Skyrim PSVR</td>\n      <td>39,668</td>\n      <td>29th Dec 2018</td>\n      <td>3rIjcRK_BNU</td>\n    </tr>\n    <tr>\n      <th>64302781</th>\n      <td>19</td>\n      <td>Madden NFL 18</td>\n      <td>33,202</td>\n      <td>29th Dec 2018</td>\n      <td>Js04hvdVUA8</td>\n    </tr>\n    <tr>\n      <th>64394910</th>\n      <td>26</td>\n      <td>FIFA 18</td>\n      <td>28,161</td>\n      <td>29th Dec 2018</td>\n      <td>WB8ozD7l02w</td>\n    </tr>\n    <tr>\n      <th>64751461</th>\n      <td>50</td>\n      <td>Sonic Forces</td>\n      <td>Pro</td>\n      <td>29th Dec 2018</td>\n      <td>T2uyIBURMjs</td>\n    </tr>\n    <tr>\n      <th>64992138</th>\n      <td>66</td>\n      <td>Pokemon Sun/Moon</td>\n      <td>Pro</td>\n      <td>29th Dec 2018</td>\n      <td>ZhEz1cvC1rc</td>\n    </tr>\n    <tr>\n      <th>65009183</th>\n      <td>67</td>\n      <td>Kingdom Hearts HD 2.8 Final Chapter Prologue</td>\n      <td>Pro</td>\n      <td>29th Dec 2018</td>\n      <td>gPtU_-N6dMg</td>\n    </tr>\n    <tr>\n      <th>65119904</th>\n      <td>75</td>\n      <td>New Super Mario Bros. 2</td>\n      <td>Pro</td>\n      <td>29th Dec 2018</td>\n      <td>b8GGWHGkx3Y</td>\n    </tr>\n  </tbody>\n</table>\n</div>"
     },
     "metadata": {},
     "execution_count": 19
    }
   ]
  },
  {
   "cell_type": "code",
   "execution_count": 20,
   "metadata": {},
   "outputs": [],
   "source": [
    "rds_connection_string = \"postgres:norocel7@database-1.cgiopwhezyby.us-east-2.rds.amazonaws.com/video_games_db\"\n",
    "engine = create_engine(f'postgresql://{rds_connection_string}')\n",
    "\n",
    "engine.table_names()\n",
    "\n",
    "final_videogames_df.to_sql(name='video_games', con=engine, if_exists='replace', index=False)"
   ]
  }
 ]
}